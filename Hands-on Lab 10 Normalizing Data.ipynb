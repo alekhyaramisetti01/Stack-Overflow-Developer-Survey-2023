{
 "cells": [
  {
   "cell_type": "markdown",
   "metadata": {},
   "source": [
    "<p style=\"text-align:center\">\n",
    "    <a href=\"https://skills.network\" target=\"_blank\">\n",
    "    <img src=\"https://cf-courses-data.s3.us.cloud-object-storage.appdomain.cloud/assets/logos/SN_web_lightmode.png\" width=\"200\" alt=\"Skills Network Logo\"  />\n",
    "    </a>\n",
    "</p>\n"
   ]
  },
  {
   "cell_type": "markdown",
   "metadata": {},
   "source": [
    "# **Data Normalization Techniques**\n"
   ]
  },
  {
   "cell_type": "markdown",
   "metadata": {},
   "source": [
    "Estimated time needed: **30** minutes\n"
   ]
  },
  {
   "cell_type": "markdown",
   "metadata": {},
   "source": [
    "In this lab, you will focus on data normalization. This includes identifying compensation-related columns, applying normalization techniques, and visualizing the data distributions.\n"
   ]
  },
  {
   "cell_type": "markdown",
   "metadata": {},
   "source": [
    "## Objectives\n"
   ]
  },
  {
   "cell_type": "markdown",
   "metadata": {},
   "source": [
    "In this lab, you will perform the following:\n"
   ]
  },
  {
   "cell_type": "markdown",
   "metadata": {},
   "source": [
    "- Identify duplicate rows and remove them.\n",
    "\n",
    "- Check and handle missing values in key columns.\n",
    "\n",
    "- Identify and normalize compensation-related columns.\n",
    "\n",
    "- Visualize the effect of normalization techniques on data distributions.\n"
   ]
  },
  {
   "cell_type": "markdown",
   "metadata": {},
   "source": [
    "-----\n"
   ]
  },
  {
   "cell_type": "markdown",
   "metadata": {},
   "source": [
    "## Hands on Lab\n"
   ]
  },
  {
   "cell_type": "markdown",
   "metadata": {},
   "source": [
    "#### Step 1: Install and Import Libraries\n"
   ]
  },
  {
   "cell_type": "code",
   "execution_count": 1,
   "metadata": {},
   "outputs": [
    {
     "name": "stdout",
     "output_type": "stream",
     "text": [
      "Requirement already satisfied: pandas in /opt/conda/lib/python3.12/site-packages (2.3.1)\n",
      "Requirement already satisfied: numpy>=1.26.0 in /opt/conda/lib/python3.12/site-packages (from pandas) (2.3.1)\n",
      "Requirement already satisfied: python-dateutil>=2.8.2 in /opt/conda/lib/python3.12/site-packages (from pandas) (2.9.0.post0)\n",
      "Requirement already satisfied: pytz>=2020.1 in /opt/conda/lib/python3.12/site-packages (from pandas) (2024.2)\n",
      "Requirement already satisfied: tzdata>=2022.7 in /opt/conda/lib/python3.12/site-packages (from pandas) (2025.2)\n",
      "Requirement already satisfied: six>=1.5 in /opt/conda/lib/python3.12/site-packages (from python-dateutil>=2.8.2->pandas) (1.17.0)\n"
     ]
    }
   ],
   "source": [
    "!pip install pandas"
   ]
  },
  {
   "cell_type": "code",
   "execution_count": 2,
   "metadata": {},
   "outputs": [
    {
     "name": "stdout",
     "output_type": "stream",
     "text": [
      "Requirement already satisfied: matplotlib in /opt/conda/lib/python3.12/site-packages (3.10.3)\n",
      "Requirement already satisfied: contourpy>=1.0.1 in /opt/conda/lib/python3.12/site-packages (from matplotlib) (1.3.2)\n",
      "Requirement already satisfied: cycler>=0.10 in /opt/conda/lib/python3.12/site-packages (from matplotlib) (0.12.1)\n",
      "Requirement already satisfied: fonttools>=4.22.0 in /opt/conda/lib/python3.12/site-packages (from matplotlib) (4.58.5)\n",
      "Requirement already satisfied: kiwisolver>=1.3.1 in /opt/conda/lib/python3.12/site-packages (from matplotlib) (1.4.8)\n",
      "Requirement already satisfied: numpy>=1.23 in /opt/conda/lib/python3.12/site-packages (from matplotlib) (2.3.1)\n",
      "Requirement already satisfied: packaging>=20.0 in /opt/conda/lib/python3.12/site-packages (from matplotlib) (24.2)\n",
      "Requirement already satisfied: pillow>=8 in /opt/conda/lib/python3.12/site-packages (from matplotlib) (11.3.0)\n",
      "Requirement already satisfied: pyparsing>=2.3.1 in /opt/conda/lib/python3.12/site-packages (from matplotlib) (3.2.3)\n",
      "Requirement already satisfied: python-dateutil>=2.7 in /opt/conda/lib/python3.12/site-packages (from matplotlib) (2.9.0.post0)\n",
      "Requirement already satisfied: six>=1.5 in /opt/conda/lib/python3.12/site-packages (from python-dateutil>=2.7->matplotlib) (1.17.0)\n"
     ]
    }
   ],
   "source": [
    "!pip install matplotlib"
   ]
  },
  {
   "cell_type": "code",
   "execution_count": 3,
   "metadata": {},
   "outputs": [],
   "source": [
    "import pandas as pd\n",
    "import matplotlib.pyplot as plt"
   ]
  },
  {
   "cell_type": "markdown",
   "metadata": {},
   "source": [
    "### Step 2: Load the Dataset into a DataFrame\n"
   ]
  },
  {
   "cell_type": "markdown",
   "metadata": {},
   "source": [
    "We use the <code>pandas.read_csv()</code> function for reading CSV files. However, in this version of the lab, which operates on JupyterLite, the dataset needs to be downloaded to the interface using the provided code below.\n"
   ]
  },
  {
   "cell_type": "markdown",
   "metadata": {},
   "source": [
    "The functions below will download the dataset into your browser:\n"
   ]
  },
  {
   "cell_type": "code",
   "execution_count": 4,
   "metadata": {},
   "outputs": [
    {
     "name": "stdout",
     "output_type": "stream",
     "text": [
      "   ResponseId                      MainBranch                 Age  \\\n",
      "0           1  I am a developer by profession  Under 18 years old   \n",
      "1           2  I am a developer by profession     35-44 years old   \n",
      "2           3  I am a developer by profession     45-54 years old   \n",
      "3           4           I am learning to code     18-24 years old   \n",
      "4           5  I am a developer by profession     18-24 years old   \n",
      "\n",
      "            Employment RemoteWork   Check  \\\n",
      "0  Employed, full-time     Remote  Apples   \n",
      "1  Employed, full-time     Remote  Apples   \n",
      "2  Employed, full-time     Remote  Apples   \n",
      "3   Student, full-time        NaN  Apples   \n",
      "4   Student, full-time        NaN  Apples   \n",
      "\n",
      "                                    CodingActivities  \\\n",
      "0                                              Hobby   \n",
      "1  Hobby;Contribute to open-source projects;Other...   \n",
      "2  Hobby;Contribute to open-source projects;Other...   \n",
      "3                                                NaN   \n",
      "4                                                NaN   \n",
      "\n",
      "                                             EdLevel  \\\n",
      "0                          Primary/elementary school   \n",
      "1       Bachelor’s degree (B.A., B.S., B.Eng., etc.)   \n",
      "2    Master’s degree (M.A., M.S., M.Eng., MBA, etc.)   \n",
      "3  Some college/university study without earning ...   \n",
      "4  Secondary school (e.g. American high school, G...   \n",
      "\n",
      "                                           LearnCode  \\\n",
      "0                             Books / Physical media   \n",
      "1  Books / Physical media;Colleague;On the job tr...   \n",
      "2  Books / Physical media;Colleague;On the job tr...   \n",
      "3  Other online resources (e.g., videos, blogs, f...   \n",
      "4  Other online resources (e.g., videos, blogs, f...   \n",
      "\n",
      "                                     LearnCodeOnline  ... JobSatPoints_6  \\\n",
      "0                                                NaN  ...            NaN   \n",
      "1  Technical documentation;Blogs;Books;Written Tu...  ...            0.0   \n",
      "2  Technical documentation;Blogs;Books;Written Tu...  ...            NaN   \n",
      "3  Stack Overflow;How-to videos;Interactive tutorial  ...            NaN   \n",
      "4  Technical documentation;Blogs;Written Tutorial...  ...            NaN   \n",
      "\n",
      "  JobSatPoints_7 JobSatPoints_8 JobSatPoints_9 JobSatPoints_10  \\\n",
      "0            NaN            NaN            NaN             NaN   \n",
      "1            0.0            0.0            0.0             0.0   \n",
      "2            NaN            NaN            NaN             NaN   \n",
      "3            NaN            NaN            NaN             NaN   \n",
      "4            NaN            NaN            NaN             NaN   \n",
      "\n",
      "  JobSatPoints_11           SurveyLength SurveyEase ConvertedCompYearly JobSat  \n",
      "0             NaN                    NaN        NaN                 NaN    NaN  \n",
      "1             0.0                    NaN        NaN                 NaN    NaN  \n",
      "2             NaN  Appropriate in length       Easy                 NaN    NaN  \n",
      "3             NaN               Too long       Easy                 NaN    NaN  \n",
      "4             NaN              Too short       Easy                 NaN    NaN  \n",
      "\n",
      "[5 rows x 114 columns]\n"
     ]
    }
   ],
   "source": [
    "file_path = \"https://cf-courses-data.s3.us.cloud-object-storage.appdomain.cloud/n01PQ9pSmiRX6520flujwQ/survey-data.csv\"\n",
    "\n",
    "df = pd.read_csv(file_path)\n",
    "\n",
    "# Display the first few rows to check if data is loaded correctly\n",
    "print(df.head())\n"
   ]
  },
  {
   "cell_type": "code",
   "execution_count": null,
   "metadata": {},
   "outputs": [],
   "source": [
    "#df = pd.read_csv(\"https://cf-courses-data.s3.us.cloud-object-storage.appdomain.cloud/n01PQ9pSmiRX6520flujwQ/survey-data.csv\")"
   ]
  },
  {
   "cell_type": "markdown",
   "metadata": {},
   "source": [
    "### Section 1: Handling Duplicates\n",
    "##### Task 1: Identify and remove duplicate rows.\n"
   ]
  },
  {
   "cell_type": "code",
   "execution_count": 7,
   "metadata": {},
   "outputs": [
    {
     "name": "stdout",
     "output_type": "stream",
     "text": [
      "✅ Number of duplicate rows based on subset: 63830\n",
      "    ResponseId                      MainBranch                 Age  \\\n",
      "16          17     i code primarily as a hobby  under 18 years old   \n",
      "18          19  i am a developer by profession     25-34 years old   \n",
      "19          20  i am a developer by profession     35-44 years old   \n",
      "22          23  i am a developer by profession     45-54 years old   \n",
      "25          26  i am a developer by profession     45-54 years old   \n",
      "\n",
      "             Employment                            RemoteWork   Check  \\\n",
      "16   student, full-time                                   nan  apples   \n",
      "18  employed, full-time  hybrid (some remote, some in-person)  apples   \n",
      "19  employed, full-time  hybrid (some remote, some in-person)  apples   \n",
      "22  employed, full-time                                remote  apples   \n",
      "25  employed, full-time  hybrid (some remote, some in-person)  apples   \n",
      "\n",
      "                                     CodingActivities  \\\n",
      "16                                                nan   \n",
      "18  hobby;professional development or self-paced l...   \n",
      "19  hobby;professional development or self-paced l...   \n",
      "22  hobby;contribute to open-source projects;profe...   \n",
      "25                      hobby;freelance/contract work   \n",
      "\n",
      "                                              EdLevel  \\\n",
      "16                          primary/elementary school   \n",
      "18  some college/university study without earning ...   \n",
      "19  some college/university study without earning ...   \n",
      "22       bachelor’s degree (b.a., b.s., b.eng., etc.)   \n",
      "25                associate degree (a.a., a.s., etc.)   \n",
      "\n",
      "                                            LearnCode  \\\n",
      "16  books / physical media;other online resources ...   \n",
      "18  books / physical media;on the job training;oth...   \n",
      "19  books / physical media;other online resources ...   \n",
      "22  on the job training;other online resources (e....   \n",
      "25  books / physical media;colleague;on the job tr...   \n",
      "\n",
      "                                      LearnCodeOnline  ... JobSatPoints_6  \\\n",
      "16  technical documentation;written tutorials;stac...  ...            NaN   \n",
      "18  technical documentation;blogs;books;stack over...  ...           60.0   \n",
      "19  technical documentation;blogs;books;written tu...  ...            NaN   \n",
      "22    technical documentation;blogs;stack overflow;ai  ...           20.0   \n",
      "25  technical documentation;books;written tutorial...  ...            NaN   \n",
      "\n",
      "   JobSatPoints_7 JobSatPoints_8 JobSatPoints_9 JobSatPoints_10  \\\n",
      "16            NaN            NaN            NaN             NaN   \n",
      "18           10.0           10.0            0.0             0.0   \n",
      "19            NaN            NaN            NaN             NaN   \n",
      "22           20.0            0.0           20.0             0.0   \n",
      "25            NaN            NaN            NaN             NaN   \n",
      "\n",
      "   JobSatPoints_11           SurveyLength                  SurveyEase  \\\n",
      "16             NaN  appropriate in length                        easy   \n",
      "18             0.0  appropriate in length                        easy   \n",
      "19             NaN  appropriate in length  neither easy nor difficult   \n",
      "22             0.0  appropriate in length  neither easy nor difficult   \n",
      "25             NaN  appropriate in length                        easy   \n",
      "\n",
      "   ConvertedCompYearly JobSat  \n",
      "16                 NaN    NaN  \n",
      "18                 NaN   10.0  \n",
      "19                 NaN    NaN  \n",
      "22                 NaN    9.0  \n",
      "25                 NaN    NaN  \n",
      "\n",
      "[5 rows x 114 columns]\n",
      "🧹 Dataset shape after removing duplicates: (1607, 114)\n"
     ]
    }
   ],
   "source": [
    "# Step 2: Make a copy and clean string columns (strip whitespace + lowercase)\n",
    "df_cleaned = df.copy()\n",
    "for col in df_cleaned.select_dtypes(include='object').columns:\n",
    "    df_cleaned[col] = df_cleaned[col].astype(str).str.strip().str.lower()\n",
    "\n",
    "# Step 3: Identify duplicate rows based on a relevant subset of columns\n",
    "subset_cols = ['MainBranch', 'Age', 'Employment', 'RemoteWork']\n",
    "duplicate_rows = df_cleaned[df_cleaned.duplicated(subset=subset_cols)]\n",
    "\n",
    "print(\"✅ Number of duplicate rows based on subset:\", duplicate_rows.shape[0])\n",
    "print(duplicate_rows.head())\n",
    "\n",
    "# Step 4: Drop the duplicates (optional step if you want to clean them)\n",
    "df_cleaned.drop_duplicates(subset=subset_cols, inplace=True)\n",
    "\n",
    "# Step 5: Print the new shape to confirm cleanup\n",
    "print(\"🧹 Dataset shape after removing duplicates:\", df_cleaned.shape)"
   ]
  },
  {
   "cell_type": "markdown",
   "metadata": {},
   "source": [
    "### Section 2: Handling Missing Values\n",
    "##### Task 2: Identify missing values in `CodingActivities`.\n"
   ]
  },
  {
   "cell_type": "code",
   "execution_count": 8,
   "metadata": {},
   "outputs": [
    {
     "name": "stdout",
     "output_type": "stream",
     "text": [
      "Number of missing values in 'CodingActivities': 10971\n"
     ]
    }
   ],
   "source": [
    "## Write your code here\n",
    "# Count missing values in the 'CodingActivities' column\n",
    "missing_coding_activities = df['CodingActivities'].isnull().sum()\n",
    "\n",
    "print(f\"Number of missing values in 'CodingActivities': {missing_coding_activities}\")\n"
   ]
  },
  {
   "cell_type": "markdown",
   "metadata": {},
   "source": [
    "##### Task 3: Impute missing values in CodingActivities with forward-fill.\n"
   ]
  },
  {
   "cell_type": "code",
   "execution_count": 9,
   "metadata": {},
   "outputs": [
    {
     "name": "stdout",
     "output_type": "stream",
     "text": [
      "Missing values in 'CodingActivities' after forward-fill: 0\n"
     ]
    },
    {
     "name": "stderr",
     "output_type": "stream",
     "text": [
      "/tmp/ipykernel_1277/4039217150.py:3: FutureWarning: Series.fillna with 'method' is deprecated and will raise in a future version. Use obj.ffill() or obj.bfill() instead.\n",
      "  df['CodingActivities'] = df['CodingActivities'].fillna(method='ffill')\n"
     ]
    }
   ],
   "source": [
    "## Write your code here\n",
    "# Impute missing values in 'CodingActivities' using forward-fill\n",
    "df['CodingActivities'] = df['CodingActivities'].fillna(method='ffill')\n",
    "\n",
    "# Verify that there are no more missing values\n",
    "print(\"Missing values in 'CodingActivities' after forward-fill:\", df['CodingActivities'].isnull().sum())\n"
   ]
  },
  {
   "cell_type": "markdown",
   "metadata": {},
   "source": [
    "**Note**:  Before normalizing ConvertedCompYearly, ensure that any missing values (NaN) in this column are handled appropriately. You can choose to either drop the rows containing NaN or replace the missing values with a suitable statistic (e.g., median or mean).\n"
   ]
  },
  {
   "cell_type": "markdown",
   "metadata": {},
   "source": [
    "### Section 3: Normalizing Compensation Data\n",
    "##### Task 4: Identify compensation-related columns, such as ConvertedCompYearly.\n",
    "Normalization is commonly applied to compensation data to bring values within a comparable range. Here, you’ll identify ConvertedCompYearly or similar columns, which contain compensation information. This column will be used in the subsequent tasks for normalization.\n"
   ]
  },
  {
   "cell_type": "code",
   "execution_count": 10,
   "metadata": {},
   "outputs": [
    {
     "name": "stdout",
     "output_type": "stream",
     "text": [
      "Compensation-related columns found:\n",
      " ['CompTotal', 'AIComplex', 'ConvertedCompYearly']\n"
     ]
    }
   ],
   "source": [
    "## Write your code here\n",
    "# Identify columns that are compensation-related\n",
    "comp_cols = [col for col in df.columns if 'comp' in col.lower() or 'salary' in col.lower() or 'pay' in col.lower()]\n",
    "\n",
    "# Display compensation-related columns\n",
    "print(\"Compensation-related columns found:\\n\", comp_cols)\n"
   ]
  },
  {
   "cell_type": "markdown",
   "metadata": {},
   "source": [
    "##### Task 5: Normalize ConvertedCompYearly using Min-Max Scaling.\n",
    "Min-Max Scaling brings all values in a column to a 0-1 range, making it useful for comparing data across different scales. Here, you will apply Min-Max normalization to the ConvertedCompYearly column, creating a new column ConvertedCompYearly_MinMax with normalized values.\n"
   ]
  },
  {
   "cell_type": "code",
   "execution_count": 12,
   "metadata": {},
   "outputs": [
    {
     "name": "stdout",
     "output_type": "stream",
     "text": [
      "Collecting scikit-learn\n",
      "  Downloading scikit_learn-1.7.0-cp312-cp312-manylinux_2_17_x86_64.manylinux2014_x86_64.whl.metadata (17 kB)\n",
      "Requirement already satisfied: numpy>=1.22.0 in /opt/conda/lib/python3.12/site-packages (from scikit-learn) (2.3.1)\n",
      "Collecting scipy>=1.8.0 (from scikit-learn)\n",
      "  Downloading scipy-1.16.0-cp312-cp312-manylinux2014_x86_64.manylinux_2_17_x86_64.whl.metadata (61 kB)\n",
      "Collecting joblib>=1.2.0 (from scikit-learn)\n",
      "  Downloading joblib-1.5.1-py3-none-any.whl.metadata (5.6 kB)\n",
      "Collecting threadpoolctl>=3.1.0 (from scikit-learn)\n",
      "  Downloading threadpoolctl-3.6.0-py3-none-any.whl.metadata (13 kB)\n",
      "Downloading scikit_learn-1.7.0-cp312-cp312-manylinux_2_17_x86_64.manylinux2014_x86_64.whl (12.5 MB)\n",
      "\u001b[2K   \u001b[90m━━━━━━━━━━━━━━━━━━━━━━━━━━━━━━━━━━━━━━━━\u001b[0m \u001b[32m12.5/12.5 MB\u001b[0m \u001b[31m143.5 MB/s\u001b[0m eta \u001b[36m0:00:00\u001b[0m\n",
      "\u001b[?25hDownloading joblib-1.5.1-py3-none-any.whl (307 kB)\n",
      "Downloading scipy-1.16.0-cp312-cp312-manylinux2014_x86_64.manylinux_2_17_x86_64.whl (35.1 MB)\n",
      "\u001b[2K   \u001b[90m━━━━━━━━━━━━━━━━━━━━━━━━━━━━━━━━━━━━━━━━\u001b[0m \u001b[32m35.1/35.1 MB\u001b[0m \u001b[31m116.3 MB/s\u001b[0m eta \u001b[36m0:00:00\u001b[0ma \u001b[36m0:00:01\u001b[0m\n",
      "\u001b[?25hDownloading threadpoolctl-3.6.0-py3-none-any.whl (18 kB)\n",
      "Installing collected packages: threadpoolctl, scipy, joblib, scikit-learn\n",
      "Successfully installed joblib-1.5.1 scikit-learn-1.7.0 scipy-1.16.0 threadpoolctl-3.6.0\n",
      "count    23435.000000\n",
      "mean         0.005300\n",
      "std          0.011488\n",
      "min          0.000000\n",
      "25%          0.002012\n",
      "50%          0.003998\n",
      "75%          0.006642\n",
      "max          1.000000\n",
      "Name: ConvertedCompYearly_MinMax, dtype: float64\n"
     ]
    }
   ],
   "source": [
    "## Write your code here\n",
    "!pip install scikit-learn\n",
    "\n",
    "from sklearn.preprocessing import MinMaxScaler\n",
    "\n",
    "# Drop rows where ConvertedCompYearly is missing\n",
    "df_comp = df[['ConvertedCompYearly']].dropna()\n",
    "\n",
    "# Initialize the scaler\n",
    "scaler = MinMaxScaler()\n",
    "\n",
    "# Fit and transform the data\n",
    "df_comp['ConvertedCompYearly_MinMax'] = scaler.fit_transform(df_comp[['ConvertedCompYearly']])\n",
    "\n",
    "# Merge the scaled column back into the original DataFrame\n",
    "df['ConvertedCompYearly_MinMax'] = df_comp['ConvertedCompYearly_MinMax']\n",
    "\n",
    "# Display summary statistics\n",
    "print(df['ConvertedCompYearly_MinMax'].describe())\n"
   ]
  },
  {
   "cell_type": "markdown",
   "metadata": {},
   "source": [
    "##### Task 6: Apply Z-score Normalization to `ConvertedCompYearly`.\n",
    "\n",
    "Z-score normalization standardizes values by converting them to a distribution with a mean of 0 and a standard deviation of 1. This method is helpful for datasets with a Gaussian (normal) distribution. Here, you’ll calculate Z-scores for the ConvertedCompYearly column, saving the results in a new column ConvertedCompYearly_Zscore.\n"
   ]
  },
  {
   "cell_type": "code",
   "execution_count": 13,
   "metadata": {},
   "outputs": [
    {
     "name": "stdout",
     "output_type": "stream",
     "text": [
      "count    2.343500e+04\n",
      "mean     1.637265e-17\n",
      "std      1.000000e+00\n",
      "min     -4.613176e-01\n",
      "25%     -2.861649e-01\n",
      "50%     -1.132771e-01\n",
      "75%      1.168161e-01\n",
      "max      8.658551e+01\n",
      "Name: ConvertedCompYearly_Zscore, dtype: float64\n"
     ]
    }
   ],
   "source": [
    "## Write your code here\n",
    "import numpy as np\n",
    "\n",
    "# Create a copy to avoid modifying the original DataFrame\n",
    "df_zscore = df.copy()\n",
    "\n",
    "# Calculate mean and standard deviation, excluding missing values\n",
    "mean_comp = df_zscore['ConvertedCompYearly'].mean(skipna=True)\n",
    "std_comp = df_zscore['ConvertedCompYearly'].std(skipna=True)\n",
    "\n",
    "# Apply Z-score normalization only to non-null values\n",
    "df_zscore['ConvertedCompYearly_Zscore'] = df_zscore['ConvertedCompYearly'].apply(\n",
    "    lambda x: (x - mean_comp) / std_comp if pd.notnull(x) else np.nan\n",
    ")\n",
    "\n",
    "# Show summary of the new column\n",
    "print(df_zscore['ConvertedCompYearly_Zscore'].describe())\n"
   ]
  },
  {
   "cell_type": "markdown",
   "metadata": {},
   "source": [
    "### Section 4: Visualization of Normalized Data\n",
    "##### Task 7: Visualize the distribution of `ConvertedCompYearly`, `ConvertedCompYearly_Normalized`, and `ConvertedCompYearly_Zscore`\n",
    "\n",
    "Visualization helps you understand how normalization changes the data distribution. In this task, create histograms for the original ConvertedCompYearly, as well as its normalized versions (ConvertedCompYearly_MinMax and ConvertedCompYearly_Zscore). This will help you compare how each normalization technique affects the data range and distribution.\n"
   ]
  },
  {
   "cell_type": "code",
   "execution_count": 15,
   "metadata": {},
   "outputs": [
    {
     "name": "stdout",
     "output_type": "stream",
     "text": [
      "count    2.343500e+04\n",
      "mean     1.637265e-17\n",
      "std      1.000000e+00\n",
      "min     -4.613176e-01\n",
      "25%     -2.861649e-01\n",
      "50%     -1.132771e-01\n",
      "75%      1.168161e-01\n",
      "max      8.658551e+01\n",
      "Name: ConvertedCompYearly_Zscore, dtype: float64\n"
     ]
    },
    {
     "data": {
      "image/png": "[encoded data removed]",
      "text/plain": [
       "<Figure size 1800x500 with 3 Axes>"
      ]
     },
     "metadata": {},
     "output_type": "display_data"
    }
   ],
   "source": [
    "## Write your code here\n",
    "# Calculate Z-score normalization\n",
    "df['ConvertedCompYearly_Zscore'] = (df['ConvertedCompYearly'] - df['ConvertedCompYearly'].mean()) / df['ConvertedCompYearly'].std()\n",
    "\n",
    "# Confirm the column is created\n",
    "print(df['ConvertedCompYearly_Zscore'].describe())\n",
    "\n",
    "import matplotlib.pyplot as plt\n",
    "import seaborn as sns\n",
    "\n",
    "# Set the plot style\n",
    "sns.set(style=\"whitegrid\")\n",
    "\n",
    "# Create a figure with 3 subplots\n",
    "plt.figure(figsize=(18, 5))\n",
    "\n",
    "# Plot original ConvertedCompYearly\n",
    "plt.subplot(1, 3, 1)\n",
    "sns.histplot(df['ConvertedCompYearly'], bins=50, kde=True)\n",
    "plt.title('Original ConvertedCompYearly')\n",
    "plt.xlabel('Compensation ($)')\n",
    "plt.ylabel('Frequency')\n",
    "\n",
    "# Plot Min-Max Normalized Compensation\n",
    "plt.subplot(1, 3, 2)\n",
    "sns.histplot(df['ConvertedCompYearly_MinMax'].dropna(), bins=50, kde=True, color='orange')\n",
    "plt.title('Min-Max Normalized Compensation')\n",
    "plt.xlabel('Normalized Value')\n",
    "plt.ylabel('Frequency')\n",
    "\n",
    "# Plot Z-score Normalized Compensation\n",
    "plt.subplot(1, 3, 3)\n",
    "sns.histplot(df['ConvertedCompYearly_Zscore'].dropna(), bins=50, kde=True, color='green')\n",
    "plt.title('Z-score Normalized Compensation')\n",
    "plt.xlabel('Z-score')\n",
    "plt.ylabel('Frequency')\n",
    "\n",
    "# Display the plots\n",
    "plt.tight_layout()\n",
    "plt.show()\n"
   ]
  },
  {
   "cell_type": "markdown",
   "metadata": {},
   "source": [
    "### Summary\n"
   ]
  },
  {
   "cell_type": "markdown",
   "metadata": {},
   "source": [
    "In this lab, you practiced essential normalization techniques, including:\n",
    "\n",
    "- Identifying and handling duplicate rows.\n",
    "\n",
    "- Checking for and imputing missing values.\n",
    "\n",
    "- Applying Min-Max scaling and Z-score normalization to compensation data.\n",
    "\n",
    "- Visualizing the impact of normalization on data distribution.\n"
   ]
  },
  {
   "cell_type": "markdown",
   "metadata": {},
   "source": [
    "Copyright © IBM Corporation. All rights reserved.\n"
   ]
  }
 ],
 "metadata": {
  "kernelspec": {
   "display_name": "Python 3 (ipykernel)",
   "language": "python",
   "name": "python3"
  },
  "language_info": {
   "codemirror_mode": {
    "name": "ipython",
    "version": 3
   },
   "file_extension": ".py",
   "mimetype": "text/x-python",
   "name": "python",
   "nbconvert_exporter": "python",
   "pygments_lexer": "ipython3",
   "version": "3.12.8"
  },
  "prev_pub_hash": "5b2314eae200c68d20ee3204d822e6fad4f5845945b4895f383c3007af43740d"
 },
 "nbformat": 4,
 "nbformat_minor": 4
}
